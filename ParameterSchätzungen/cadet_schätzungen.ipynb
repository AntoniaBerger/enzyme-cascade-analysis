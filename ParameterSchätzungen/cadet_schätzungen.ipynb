{
 "cells": [
  {
   "cell_type": "code",
   "execution_count": null,
   "id": "43abb39b",
   "metadata": {},
   "outputs": [],
   "source": [
    "# notebook setup \n",
    "\n",
    "install_path = r'C:\\Users\\berger\\CADET\\out\\install\\DEBUG\\bin\\cadet-cli.exe'\n",
    "plot_results = True\n",
    "soutput_dir = r'C:\\Users\\berger\\Documents\\Projekts\\MichealisMenten\\output'"
   ]
  },
  {
   "cell_type": "code",
   "execution_count": null,
   "id": "5ddda088",
   "metadata": {},
   "outputs": [],
   "source": []
  }
 ],
 "metadata": {
  "kernelspec": {
   "display_name": "CadetEnv",
   "language": "python",
   "name": "python3"
  },
  "language_info": {
   "name": "python",
   "version": "3.12.8"
  }
 },
 "nbformat": 4,
 "nbformat_minor": 5
}
